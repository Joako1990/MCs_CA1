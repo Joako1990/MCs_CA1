{
 "cells": [
  {
   "cell_type": "markdown",
   "id": "b22dd49b",
   "metadata": {},
   "source": [
    "# EDA\n",
    "## Undertsanting the data"
   ]
  },
  {
   "cell_type": "code",
   "execution_count": 1,
   "id": "6d80052f",
   "metadata": {},
   "outputs": [],
   "source": [
    "#Import libraries\n",
    "import pandas as pd\n",
    "import numpy as np\n",
    "import seaborn as sns\n",
    "import matplotlib.pyplot as plt"
   ]
  },
  {
   "cell_type": "code",
   "execution_count": 2,
   "id": "777d8007",
   "metadata": {},
   "outputs": [
    {
     "data": {
      "text/html": [
       "<div>\n",
       "<style scoped>\n",
       "    .dataframe tbody tr th:only-of-type {\n",
       "        vertical-align: middle;\n",
       "    }\n",
       "\n",
       "    .dataframe tbody tr th {\n",
       "        vertical-align: top;\n",
       "    }\n",
       "\n",
       "    .dataframe thead th {\n",
       "        text-align: right;\n",
       "    }\n",
       "</style>\n",
       "<table border=\"1\" class=\"dataframe\">\n",
       "  <thead>\n",
       "    <tr style=\"text-align: right;\">\n",
       "      <th></th>\n",
       "      <th>STATISTIC Label</th>\n",
       "      <th>Year</th>\n",
       "      <th>Sex</th>\n",
       "      <th>Nationality</th>\n",
       "      <th>UNIT</th>\n",
       "      <th>VALUE</th>\n",
       "    </tr>\n",
       "  </thead>\n",
       "  <tbody>\n",
       "    <tr>\n",
       "      <th>0</th>\n",
       "      <td>Estimated Population</td>\n",
       "      <td>2006</td>\n",
       "      <td>Both sexes</td>\n",
       "      <td>Irish</td>\n",
       "      <td>Thousand</td>\n",
       "      <td>3802.4</td>\n",
       "    </tr>\n",
       "    <tr>\n",
       "      <th>1</th>\n",
       "      <td>Estimated Population</td>\n",
       "      <td>2006</td>\n",
       "      <td>Both sexes</td>\n",
       "      <td>UK (1)</td>\n",
       "      <td>Thousand</td>\n",
       "      <td>115.5</td>\n",
       "    </tr>\n",
       "    <tr>\n",
       "      <th>2</th>\n",
       "      <td>Estimated Population</td>\n",
       "      <td>2006</td>\n",
       "      <td>Both sexes</td>\n",
       "      <td>EU14 excl Irl (countries in the EU pre 2004 ex...</td>\n",
       "      <td>Thousand</td>\n",
       "      <td>43.8</td>\n",
       "    </tr>\n",
       "    <tr>\n",
       "      <th>3</th>\n",
       "      <td>Estimated Population</td>\n",
       "      <td>2006</td>\n",
       "      <td>Both sexes</td>\n",
       "      <td>EU15 to EU27 (accession countries joined post ...</td>\n",
       "      <td>Thousand</td>\n",
       "      <td>132.5</td>\n",
       "    </tr>\n",
       "    <tr>\n",
       "      <th>4</th>\n",
       "      <td>Estimated Population</td>\n",
       "      <td>2006</td>\n",
       "      <td>Both sexes</td>\n",
       "      <td>Other nationalities(17)</td>\n",
       "      <td>Thousand</td>\n",
       "      <td>138.8</td>\n",
       "    </tr>\n",
       "  </tbody>\n",
       "</table>\n",
       "</div>"
      ],
      "text/plain": [
       "        STATISTIC Label  Year         Sex  \\\n",
       "0  Estimated Population  2006  Both sexes   \n",
       "1  Estimated Population  2006  Both sexes   \n",
       "2  Estimated Population  2006  Both sexes   \n",
       "3  Estimated Population  2006  Both sexes   \n",
       "4  Estimated Population  2006  Both sexes   \n",
       "\n",
       "                                         Nationality      UNIT   VALUE  \n",
       "0                                              Irish  Thousand  3802.4  \n",
       "1                                             UK (1)  Thousand   115.5  \n",
       "2  EU14 excl Irl (countries in the EU pre 2004 ex...  Thousand    43.8  \n",
       "3  EU15 to EU27 (accession countries joined post ...  Thousand   132.5  \n",
       "4                            Other nationalities(17)  Thousand   138.8  "
      ]
     },
     "execution_count": 2,
     "metadata": {},
     "output_type": "execute_result"
    }
   ],
   "source": [
    "#Read file\n",
    "df=pd.read_csv('PEA21.20231012T201032.csv')\n",
    "df.head()"
   ]
  },
  {
   "cell_type": "code",
   "execution_count": 3,
   "id": "78452eae",
   "metadata": {},
   "outputs": [
    {
     "data": {
      "text/plain": [
       "(306, 6)"
      ]
     },
     "execution_count": 3,
     "metadata": {},
     "output_type": "execute_result"
    }
   ],
   "source": [
    "#Shape of the data\n",
    "df.shape"
   ]
  },
  {
   "cell_type": "code",
   "execution_count": 4,
   "id": "4176d9aa",
   "metadata": {},
   "outputs": [
    {
     "name": "stdout",
     "output_type": "stream",
     "text": [
      "<class 'pandas.core.frame.DataFrame'>\n",
      "RangeIndex: 306 entries, 0 to 305\n",
      "Data columns (total 6 columns):\n",
      " #   Column           Non-Null Count  Dtype  \n",
      "---  ------           --------------  -----  \n",
      " 0   STATISTIC Label  306 non-null    object \n",
      " 1   Year             306 non-null    int64  \n",
      " 2   Sex              306 non-null    object \n",
      " 3   Nationality      306 non-null    object \n",
      " 4   UNIT             306 non-null    object \n",
      " 5   VALUE            306 non-null    float64\n",
      "dtypes: float64(1), int64(1), object(4)\n",
      "memory usage: 14.5+ KB\n"
     ]
    }
   ],
   "source": [
    "#Get the informattion of the data to start understanding it, Are all the values correct?\n",
    "df.info()"
   ]
  },
  {
   "cell_type": "code",
   "execution_count": 5,
   "id": "3f391d31",
   "metadata": {},
   "outputs": [
    {
     "data": {
      "text/plain": [
       "STATISTIC Label    0\n",
       "Year               0\n",
       "Sex                0\n",
       "Nationality        0\n",
       "UNIT               0\n",
       "VALUE              0\n",
       "dtype: int64"
      ]
     },
     "execution_count": 5,
     "metadata": {},
     "output_type": "execute_result"
    }
   ],
   "source": [
    "#Any null value?\n",
    "\n",
    "df.isnull().sum()\n",
    "#No null Values"
   ]
  },
  {
   "cell_type": "code",
   "execution_count": 6,
   "id": "15a4e451",
   "metadata": {},
   "outputs": [
    {
     "data": {
      "text/plain": [
       "STATISTIC Label      1\n",
       "Year                17\n",
       "Sex                  3\n",
       "Nationality          6\n",
       "UNIT                 1\n",
       "VALUE              287\n",
       "dtype: int64"
      ]
     },
     "execution_count": 6,
     "metadata": {},
     "output_type": "execute_result"
    }
   ],
   "source": [
    "#Explore the unique values in every column\n",
    "\n",
    "df.nunique()"
   ]
  },
  {
   "cell_type": "code",
   "execution_count": 7,
   "id": "d1eebe75",
   "metadata": {},
   "outputs": [
    {
     "data": {
      "text/html": [
       "<div>\n",
       "<style scoped>\n",
       "    .dataframe tbody tr th:only-of-type {\n",
       "        vertical-align: middle;\n",
       "    }\n",
       "\n",
       "    .dataframe tbody tr th {\n",
       "        vertical-align: top;\n",
       "    }\n",
       "\n",
       "    .dataframe thead th {\n",
       "        text-align: right;\n",
       "    }\n",
       "</style>\n",
       "<table border=\"1\" class=\"dataframe\">\n",
       "  <thead>\n",
       "    <tr style=\"text-align: right;\">\n",
       "      <th></th>\n",
       "      <th>Year</th>\n",
       "      <th>VALUE</th>\n",
       "    </tr>\n",
       "  </thead>\n",
       "  <tbody>\n",
       "    <tr>\n",
       "      <th>count</th>\n",
       "      <td>306.000000</td>\n",
       "      <td>306.000000</td>\n",
       "    </tr>\n",
       "    <tr>\n",
       "      <th>mean</th>\n",
       "      <td>2014.000000</td>\n",
       "      <td>1041.806536</td>\n",
       "    </tr>\n",
       "    <tr>\n",
       "      <th>std</th>\n",
       "      <td>4.907004</td>\n",
       "      <td>1477.104974</td>\n",
       "    </tr>\n",
       "    <tr>\n",
       "      <th>min</th>\n",
       "      <td>2006.000000</td>\n",
       "      <td>21.300000</td>\n",
       "    </tr>\n",
       "    <tr>\n",
       "      <th>25%</th>\n",
       "      <td>2010.000000</td>\n",
       "      <td>60.100000</td>\n",
       "    </tr>\n",
       "    <tr>\n",
       "      <th>50%</th>\n",
       "      <td>2014.000000</td>\n",
       "      <td>121.400000</td>\n",
       "    </tr>\n",
       "    <tr>\n",
       "      <th>75%</th>\n",
       "      <td>2018.000000</td>\n",
       "      <td>2117.600000</td>\n",
       "    </tr>\n",
       "    <tr>\n",
       "      <th>max</th>\n",
       "      <td>2022.000000</td>\n",
       "      <td>5100.200000</td>\n",
       "    </tr>\n",
       "  </tbody>\n",
       "</table>\n",
       "</div>"
      ],
      "text/plain": [
       "              Year        VALUE\n",
       "count   306.000000   306.000000\n",
       "mean   2014.000000  1041.806536\n",
       "std       4.907004  1477.104974\n",
       "min    2006.000000    21.300000\n",
       "25%    2010.000000    60.100000\n",
       "50%    2014.000000   121.400000\n",
       "75%    2018.000000  2117.600000\n",
       "max    2022.000000  5100.200000"
      ]
     },
     "execution_count": 7,
     "metadata": {},
     "output_type": "execute_result"
    }
   ],
   "source": [
    "df.describe()"
   ]
  },
  {
   "cell_type": "code",
   "execution_count": 8,
   "id": "a89da8e4",
   "metadata": {},
   "outputs": [
    {
     "data": {
      "text/html": [
       "<div>\n",
       "<style scoped>\n",
       "    .dataframe tbody tr th:only-of-type {\n",
       "        vertical-align: middle;\n",
       "    }\n",
       "\n",
       "    .dataframe tbody tr th {\n",
       "        vertical-align: top;\n",
       "    }\n",
       "\n",
       "    .dataframe thead th {\n",
       "        text-align: right;\n",
       "    }\n",
       "</style>\n",
       "<table border=\"1\" class=\"dataframe\">\n",
       "  <thead>\n",
       "    <tr style=\"text-align: right;\">\n",
       "      <th></th>\n",
       "      <th>STATISTIC Label</th>\n",
       "      <th>Sex</th>\n",
       "      <th>Nationality</th>\n",
       "      <th>UNIT</th>\n",
       "    </tr>\n",
       "  </thead>\n",
       "  <tbody>\n",
       "    <tr>\n",
       "      <th>count</th>\n",
       "      <td>306</td>\n",
       "      <td>306</td>\n",
       "      <td>306</td>\n",
       "      <td>306</td>\n",
       "    </tr>\n",
       "    <tr>\n",
       "      <th>unique</th>\n",
       "      <td>1</td>\n",
       "      <td>3</td>\n",
       "      <td>6</td>\n",
       "      <td>1</td>\n",
       "    </tr>\n",
       "    <tr>\n",
       "      <th>top</th>\n",
       "      <td>Estimated Population</td>\n",
       "      <td>Both sexes</td>\n",
       "      <td>Irish</td>\n",
       "      <td>Thousand</td>\n",
       "    </tr>\n",
       "    <tr>\n",
       "      <th>freq</th>\n",
       "      <td>306</td>\n",
       "      <td>102</td>\n",
       "      <td>51</td>\n",
       "      <td>306</td>\n",
       "    </tr>\n",
       "  </tbody>\n",
       "</table>\n",
       "</div>"
      ],
      "text/plain": [
       "             STATISTIC Label         Sex Nationality      UNIT\n",
       "count                    306         306         306       306\n",
       "unique                     1           3           6         1\n",
       "top     Estimated Population  Both sexes       Irish  Thousand\n",
       "freq                     306         102          51       306"
      ]
     },
     "execution_count": 8,
     "metadata": {},
     "output_type": "execute_result"
    }
   ],
   "source": [
    "df.describe(include='object')"
   ]
  },
  {
   "cell_type": "markdown",
   "id": "f9131822",
   "metadata": {},
   "source": [
    "### Find the relevant data in the dataset"
   ]
  },
  {
   "cell_type": "code",
   "execution_count": 9,
   "id": "afb522f4",
   "metadata": {},
   "outputs": [
    {
     "data": {
      "text/plain": [
       "array(['Irish', 'UK (1)',\n",
       "       'EU14 excl Irl (countries in the EU pre 2004 excluding UK & Ireland)',\n",
       "       'EU15 to EU27 (accession countries joined post 2004)',\n",
       "       'Other nationalities(17)', 'All nationalities'], dtype=object)"
      ]
     },
     "execution_count": 9,
     "metadata": {},
     "output_type": "execute_result"
    }
   ],
   "source": [
    "#Find the different nationalities in the dataset\n",
    "df['Nationality'].unique()"
   ]
  },
  {
   "cell_type": "code",
   "execution_count": 10,
   "id": "1b0d7e9c",
   "metadata": {},
   "outputs": [
    {
     "data": {
      "text/plain": [
       "array(['Both sexes', 'Male', 'Female'], dtype=object)"
      ]
     },
     "execution_count": 10,
     "metadata": {},
     "output_type": "execute_result"
    }
   ],
   "source": [
    "#Find the different sexes in the dataset\n",
    "df['Sex'].unique()"
   ]
  },
  {
   "cell_type": "code",
   "execution_count": 11,
   "id": "67c02edc",
   "metadata": {
    "scrolled": true
   },
   "outputs": [
    {
     "data": {
      "text/plain": [
       "array([2006, 2007, 2008, 2009, 2010, 2011, 2012, 2013, 2014, 2015, 2016,\n",
       "       2017, 2018, 2019, 2020, 2021, 2022], dtype=int64)"
      ]
     },
     "execution_count": 11,
     "metadata": {},
     "output_type": "execute_result"
    }
   ],
   "source": [
    "#Years in the dataset\n",
    "df['Year'].unique()"
   ]
  },
  {
   "cell_type": "code",
   "execution_count": 12,
   "id": "480b3882",
   "metadata": {},
   "outputs": [
    {
     "data": {
      "text/plain": [
       "array([3802.4,  115.5,   43.8,  132.5,  138.8, 4232.9, 1887.4,   57.8,\n",
       "         21.3,   79.9,   70.9, 2117.3, 1914.9,   57.7,   22.5,   52.6,\n",
       "         67.9, 2115.6, 3856.2,   47. ,  207.6,  149.6, 4375.8, 1915.7,\n",
       "         57.6,   21.8,  120.3,   75.9, 2191.3, 1940.5,   57.9,   25.2,\n",
       "         87.4,   73.7, 2184.6, 3909.5,  117.9,   50.8,  247.7,  159.2,\n",
       "       4485.1, 1942.3,   58.9,   23.7,  133.9,   79.8, 2238.6, 1967.2,\n",
       "         59. ,   27.1,  113.8,   79.5, 2246.5, 3958. ,  117.1,   55.3,\n",
       "        240.8,  162.2, 4533.4, 1966.4,   58.3,   25.5,  124.8,   82.3,\n",
       "       2257.3, 1991.6,   58.8,   29.7,  116. , 2276.1, 3994.7,  115.9,\n",
       "         52.4,  233. ,  158.7, 4554.8, 1983.3,   24. ,  117.6,   79.6,\n",
       "       2262.2, 2011.4,   58.2,   28.4,   79.1, 2292.6, 4017.9,  114.9,\n",
       "         49.4,  231.5,  161.2, 4574.9, 1991.9,   23.9,  116.5,   80.4,\n",
       "       2270.5, 2026. ,   57.1,   80.8, 2304.4, 4046.6,  111.8,   51. ,\n",
       "        232.7,  151.6, 4593.7, 2003.2,   56.1,   24.3,  116.8,   74.7,\n",
       "       2275. , 2043.4,   55.7,   26.7,   76.9, 2318.7, 4080.7,  109.2,\n",
       "         53.2,  234.5,  137.1, 4614.7, 2019.4,   55. ,   25.8,  117.5,\n",
       "         68.4, 2286.1, 2061.3,   54.1,   27.4,  117. ,   68.7, 2328.5,\n",
       "       4117.6,  107.1,   56.9,  242.8,  121. , 4645.4, 2036. ,   27.6,\n",
       "        121.5,   59.8, 2299. , 2081.6,   53. ,   29.3,  121.3,   61.2,\n",
       "       2346.4, 4152.9,  105.7,   60.3,  247.8,  121.1, 4687.8, 2052.1,\n",
       "         53.6,  123.5,   60.1, 2317.7, 2100.8,   52.2,   31.9,  124.2,\n",
       "         61. , 2370.1, 4189.1,   64.9,  249.4,  130.4, 4739.6, 2071.4,\n",
       "         54.2,   31.3,   66.1, 2346.5, 2117.7,   51.6,   33.5,  125.9,\n",
       "         64.4, 2393.1, 4225.9,  107.7,   69. ,  250.3,  139.6, 4792.5,\n",
       "       2089.7,   33. ,  124. ,   70. , 2372.1, 2136.1,   35.9,  126.3,\n",
       "         69.6, 2420.4, 4263.5,  110.8,  255. ,  154.1, 4857. , 2109. ,\n",
       "         57.3,   35.3,  125.6,   78.6, 2405.8, 2154.5,   53.5,   38.4,\n",
       "        129.4,   75.5, 2451.3, 4298.8,  114.5,   81.8,  257.7,  168.7,\n",
       "       4921.5, 2126.2,   59.7,   39.3,  126.8,   86. , 2438. , 2172.7,\n",
       "         54.8,   42.5,  130.9,   82.6, 2483.5, 4333. ,  116.9,   85.8,\n",
       "        258.2,  183.5, 4977.4, 2142.9,   60.6,   41.4,  126.9,   93.8,\n",
       "       2465.6, 2190.2,   56.3,   44.4,  131.3,   89.7, 2511.9, 4365.9,\n",
       "        118.2,   85.9,  261.2,  180.2, 5011.5, 2159.4,   60.9,   42. ,\n",
       "        127.7,   91.1, 2481.1, 2206.5,   43.9,  133.5,   89.1, 2530.3,\n",
       "       4396.5,  118.6,   94.1,  267.6,  223.4, 5100.2, 2172. ,  131.5,\n",
       "        106.9, 2517.5, 2224.5,   58.5,   47.1,  136.1, 2582.7])"
      ]
     },
     "execution_count": 12,
     "metadata": {},
     "output_type": "execute_result"
    }
   ],
   "source": [
    "#Population in the dataset\n",
    "df['VALUE'].unique()"
   ]
  },
  {
   "cell_type": "code",
   "execution_count": 13,
   "id": "ad2a3b68",
   "metadata": {},
   "outputs": [
    {
     "data": {
      "text/html": [
       "<div>\n",
       "<style scoped>\n",
       "    .dataframe tbody tr th:only-of-type {\n",
       "        vertical-align: middle;\n",
       "    }\n",
       "\n",
       "    .dataframe tbody tr th {\n",
       "        vertical-align: top;\n",
       "    }\n",
       "\n",
       "    .dataframe thead th {\n",
       "        text-align: right;\n",
       "    }\n",
       "</style>\n",
       "<table border=\"1\" class=\"dataframe\">\n",
       "  <thead>\n",
       "    <tr style=\"text-align: right;\">\n",
       "      <th></th>\n",
       "      <th>STATISTIC Label</th>\n",
       "      <th>Year</th>\n",
       "      <th>Sex</th>\n",
       "      <th>Nationality</th>\n",
       "      <th>UNIT</th>\n",
       "      <th>VALUE</th>\n",
       "    </tr>\n",
       "  </thead>\n",
       "  <tbody>\n",
       "    <tr>\n",
       "      <th>293</th>\n",
       "      <td>Estimated Population</td>\n",
       "      <td>2022</td>\n",
       "      <td>Both sexes</td>\n",
       "      <td>All nationalities</td>\n",
       "      <td>Thousand</td>\n",
       "      <td>5100.2</td>\n",
       "    </tr>\n",
       "    <tr>\n",
       "      <th>275</th>\n",
       "      <td>Estimated Population</td>\n",
       "      <td>2021</td>\n",
       "      <td>Both sexes</td>\n",
       "      <td>All nationalities</td>\n",
       "      <td>Thousand</td>\n",
       "      <td>5011.5</td>\n",
       "    </tr>\n",
       "    <tr>\n",
       "      <th>257</th>\n",
       "      <td>Estimated Population</td>\n",
       "      <td>2020</td>\n",
       "      <td>Both sexes</td>\n",
       "      <td>All nationalities</td>\n",
       "      <td>Thousand</td>\n",
       "      <td>4977.4</td>\n",
       "    </tr>\n",
       "    <tr>\n",
       "      <th>239</th>\n",
       "      <td>Estimated Population</td>\n",
       "      <td>2019</td>\n",
       "      <td>Both sexes</td>\n",
       "      <td>All nationalities</td>\n",
       "      <td>Thousand</td>\n",
       "      <td>4921.5</td>\n",
       "    </tr>\n",
       "    <tr>\n",
       "      <th>221</th>\n",
       "      <td>Estimated Population</td>\n",
       "      <td>2018</td>\n",
       "      <td>Both sexes</td>\n",
       "      <td>All nationalities</td>\n",
       "      <td>Thousand</td>\n",
       "      <td>4857.0</td>\n",
       "    </tr>\n",
       "  </tbody>\n",
       "</table>\n",
       "</div>"
      ],
      "text/plain": [
       "          STATISTIC Label  Year         Sex        Nationality      UNIT  \\\n",
       "293  Estimated Population  2022  Both sexes  All nationalities  Thousand   \n",
       "275  Estimated Population  2021  Both sexes  All nationalities  Thousand   \n",
       "257  Estimated Population  2020  Both sexes  All nationalities  Thousand   \n",
       "239  Estimated Population  2019  Both sexes  All nationalities  Thousand   \n",
       "221  Estimated Population  2018  Both sexes  All nationalities  Thousand   \n",
       "\n",
       "      VALUE  \n",
       "293  5100.2  \n",
       "275  5011.5  \n",
       "257  4977.4  \n",
       "239  4921.5  \n",
       "221  4857.0  "
      ]
     },
     "execution_count": 13,
     "metadata": {},
     "output_type": "execute_result"
    }
   ],
   "source": [
    "#Years with the highest population\n",
    "\n",
    "df_pop = df.sort_values('VALUE', ascending=False).head()\n",
    "df_pop"
   ]
  },
  {
   "cell_type": "code",
   "execution_count": 14,
   "id": "b68cd4ab",
   "metadata": {
    "scrolled": true
   },
   "outputs": [
    {
     "data": {
      "text/html": [
       "<div>\n",
       "<style scoped>\n",
       "    .dataframe tbody tr th:only-of-type {\n",
       "        vertical-align: middle;\n",
       "    }\n",
       "\n",
       "    .dataframe tbody tr th {\n",
       "        vertical-align: top;\n",
       "    }\n",
       "\n",
       "    .dataframe thead th {\n",
       "        text-align: right;\n",
       "    }\n",
       "</style>\n",
       "<table border=\"1\" class=\"dataframe\">\n",
       "  <thead>\n",
       "    <tr style=\"text-align: right;\">\n",
       "      <th></th>\n",
       "      <th>STATISTIC Label</th>\n",
       "      <th>Year</th>\n",
       "      <th>Sex</th>\n",
       "      <th>Nationality</th>\n",
       "      <th>UNIT</th>\n",
       "      <th>VALUE</th>\n",
       "    </tr>\n",
       "  </thead>\n",
       "  <tbody>\n",
       "    <tr>\n",
       "      <th>12</th>\n",
       "      <td>Estimated Population</td>\n",
       "      <td>2006</td>\n",
       "      <td>Female</td>\n",
       "      <td>Irish</td>\n",
       "      <td>Thousand</td>\n",
       "      <td>1914.9</td>\n",
       "    </tr>\n",
       "    <tr>\n",
       "      <th>13</th>\n",
       "      <td>Estimated Population</td>\n",
       "      <td>2006</td>\n",
       "      <td>Female</td>\n",
       "      <td>UK (1)</td>\n",
       "      <td>Thousand</td>\n",
       "      <td>57.7</td>\n",
       "    </tr>\n",
       "    <tr>\n",
       "      <th>14</th>\n",
       "      <td>Estimated Population</td>\n",
       "      <td>2006</td>\n",
       "      <td>Female</td>\n",
       "      <td>EU14 excl Irl (countries in the EU pre 2004 ex...</td>\n",
       "      <td>Thousand</td>\n",
       "      <td>22.5</td>\n",
       "    </tr>\n",
       "    <tr>\n",
       "      <th>15</th>\n",
       "      <td>Estimated Population</td>\n",
       "      <td>2006</td>\n",
       "      <td>Female</td>\n",
       "      <td>EU15 to EU27 (accession countries joined post ...</td>\n",
       "      <td>Thousand</td>\n",
       "      <td>52.6</td>\n",
       "    </tr>\n",
       "    <tr>\n",
       "      <th>16</th>\n",
       "      <td>Estimated Population</td>\n",
       "      <td>2006</td>\n",
       "      <td>Female</td>\n",
       "      <td>Other nationalities(17)</td>\n",
       "      <td>Thousand</td>\n",
       "      <td>67.9</td>\n",
       "    </tr>\n",
       "  </tbody>\n",
       "</table>\n",
       "</div>"
      ],
      "text/plain": [
       "         STATISTIC Label  Year     Sex  \\\n",
       "12  Estimated Population  2006  Female   \n",
       "13  Estimated Population  2006  Female   \n",
       "14  Estimated Population  2006  Female   \n",
       "15  Estimated Population  2006  Female   \n",
       "16  Estimated Population  2006  Female   \n",
       "\n",
       "                                          Nationality      UNIT   VALUE  \n",
       "12                                              Irish  Thousand  1914.9  \n",
       "13                                             UK (1)  Thousand    57.7  \n",
       "14  EU14 excl Irl (countries in the EU pre 2004 ex...  Thousand    22.5  \n",
       "15  EU15 to EU27 (accession countries joined post ...  Thousand    52.6  \n",
       "16                            Other nationalities(17)  Thousand    67.9  "
      ]
     },
     "execution_count": 14,
     "metadata": {},
     "output_type": "execute_result"
    }
   ],
   "source": [
    "#Getting female population\n",
    "\n",
    "df_popF = df.loc[df['Sex']=='Female']\n",
    "df_popF.head()"
   ]
  },
  {
   "cell_type": "code",
   "execution_count": 15,
   "id": "e8ed5c5f",
   "metadata": {},
   "outputs": [
    {
     "data": {
      "text/html": [
       "<div>\n",
       "<style scoped>\n",
       "    .dataframe tbody tr th:only-of-type {\n",
       "        vertical-align: middle;\n",
       "    }\n",
       "\n",
       "    .dataframe tbody tr th {\n",
       "        vertical-align: top;\n",
       "    }\n",
       "\n",
       "    .dataframe thead th {\n",
       "        text-align: right;\n",
       "    }\n",
       "</style>\n",
       "<table border=\"1\" class=\"dataframe\">\n",
       "  <thead>\n",
       "    <tr style=\"text-align: right;\">\n",
       "      <th></th>\n",
       "      <th>STATISTIC Label</th>\n",
       "      <th>Year</th>\n",
       "      <th>Sex</th>\n",
       "      <th>Nationality</th>\n",
       "      <th>UNIT</th>\n",
       "      <th>VALUE</th>\n",
       "    </tr>\n",
       "  </thead>\n",
       "  <tbody>\n",
       "    <tr>\n",
       "      <th>6</th>\n",
       "      <td>Estimated Population</td>\n",
       "      <td>2006</td>\n",
       "      <td>Male</td>\n",
       "      <td>Irish</td>\n",
       "      <td>Thousand</td>\n",
       "      <td>1887.4</td>\n",
       "    </tr>\n",
       "    <tr>\n",
       "      <th>7</th>\n",
       "      <td>Estimated Population</td>\n",
       "      <td>2006</td>\n",
       "      <td>Male</td>\n",
       "      <td>UK (1)</td>\n",
       "      <td>Thousand</td>\n",
       "      <td>57.8</td>\n",
       "    </tr>\n",
       "    <tr>\n",
       "      <th>8</th>\n",
       "      <td>Estimated Population</td>\n",
       "      <td>2006</td>\n",
       "      <td>Male</td>\n",
       "      <td>EU14 excl Irl (countries in the EU pre 2004 ex...</td>\n",
       "      <td>Thousand</td>\n",
       "      <td>21.3</td>\n",
       "    </tr>\n",
       "    <tr>\n",
       "      <th>9</th>\n",
       "      <td>Estimated Population</td>\n",
       "      <td>2006</td>\n",
       "      <td>Male</td>\n",
       "      <td>EU15 to EU27 (accession countries joined post ...</td>\n",
       "      <td>Thousand</td>\n",
       "      <td>79.9</td>\n",
       "    </tr>\n",
       "    <tr>\n",
       "      <th>10</th>\n",
       "      <td>Estimated Population</td>\n",
       "      <td>2006</td>\n",
       "      <td>Male</td>\n",
       "      <td>Other nationalities(17)</td>\n",
       "      <td>Thousand</td>\n",
       "      <td>70.9</td>\n",
       "    </tr>\n",
       "  </tbody>\n",
       "</table>\n",
       "</div>"
      ],
      "text/plain": [
       "         STATISTIC Label  Year   Sex  \\\n",
       "6   Estimated Population  2006  Male   \n",
       "7   Estimated Population  2006  Male   \n",
       "8   Estimated Population  2006  Male   \n",
       "9   Estimated Population  2006  Male   \n",
       "10  Estimated Population  2006  Male   \n",
       "\n",
       "                                          Nationality      UNIT   VALUE  \n",
       "6                                               Irish  Thousand  1887.4  \n",
       "7                                              UK (1)  Thousand    57.8  \n",
       "8   EU14 excl Irl (countries in the EU pre 2004 ex...  Thousand    21.3  \n",
       "9   EU15 to EU27 (accession countries joined post ...  Thousand    79.9  \n",
       "10                            Other nationalities(17)  Thousand    70.9  "
      ]
     },
     "execution_count": 15,
     "metadata": {},
     "output_type": "execute_result"
    }
   ],
   "source": [
    "#Getting male population\n",
    "\n",
    "df_popM = df.loc[df['Sex']=='Male']\n",
    "df_popM.head()"
   ]
  },
  {
   "cell_type": "markdown",
   "id": "0d48c5e1",
   "metadata": {},
   "source": [
    "## Reducing the dataframe dropping unnecesary values"
   ]
  },
  {
   "cell_type": "markdown",
   "id": "7f60f6ab",
   "metadata": {},
   "source": [
    "### Creating new DF without \"EU14 excl Irl column\" & \"All nationalities\""
   ]
  },
  {
   "cell_type": "code",
   "execution_count": 16,
   "id": "b6668d67",
   "metadata": {},
   "outputs": [
    {
     "data": {
      "text/html": [
       "<div>\n",
       "<style scoped>\n",
       "    .dataframe tbody tr th:only-of-type {\n",
       "        vertical-align: middle;\n",
       "    }\n",
       "\n",
       "    .dataframe tbody tr th {\n",
       "        vertical-align: top;\n",
       "    }\n",
       "\n",
       "    .dataframe thead th {\n",
       "        text-align: right;\n",
       "    }\n",
       "</style>\n",
       "<table border=\"1\" class=\"dataframe\">\n",
       "  <thead>\n",
       "    <tr style=\"text-align: right;\">\n",
       "      <th></th>\n",
       "      <th>STATISTIC Label</th>\n",
       "      <th>Year</th>\n",
       "      <th>Sex</th>\n",
       "      <th>Nationality</th>\n",
       "      <th>UNIT</th>\n",
       "      <th>VALUE</th>\n",
       "    </tr>\n",
       "  </thead>\n",
       "  <tbody>\n",
       "    <tr>\n",
       "      <th>6</th>\n",
       "      <td>Estimated Population</td>\n",
       "      <td>2006</td>\n",
       "      <td>Male</td>\n",
       "      <td>Irish</td>\n",
       "      <td>Thousand</td>\n",
       "      <td>1887.4</td>\n",
       "    </tr>\n",
       "    <tr>\n",
       "      <th>7</th>\n",
       "      <td>Estimated Population</td>\n",
       "      <td>2006</td>\n",
       "      <td>Male</td>\n",
       "      <td>UK (1)</td>\n",
       "      <td>Thousand</td>\n",
       "      <td>57.8</td>\n",
       "    </tr>\n",
       "    <tr>\n",
       "      <th>9</th>\n",
       "      <td>Estimated Population</td>\n",
       "      <td>2006</td>\n",
       "      <td>Male</td>\n",
       "      <td>EU15 to EU27 (accession countries joined post ...</td>\n",
       "      <td>Thousand</td>\n",
       "      <td>79.9</td>\n",
       "    </tr>\n",
       "    <tr>\n",
       "      <th>10</th>\n",
       "      <td>Estimated Population</td>\n",
       "      <td>2006</td>\n",
       "      <td>Male</td>\n",
       "      <td>Other nationalities(17)</td>\n",
       "      <td>Thousand</td>\n",
       "      <td>70.9</td>\n",
       "    </tr>\n",
       "    <tr>\n",
       "      <th>12</th>\n",
       "      <td>Estimated Population</td>\n",
       "      <td>2006</td>\n",
       "      <td>Female</td>\n",
       "      <td>Irish</td>\n",
       "      <td>Thousand</td>\n",
       "      <td>1914.9</td>\n",
       "    </tr>\n",
       "  </tbody>\n",
       "</table>\n",
       "</div>"
      ],
      "text/plain": [
       "         STATISTIC Label  Year     Sex  \\\n",
       "6   Estimated Population  2006    Male   \n",
       "7   Estimated Population  2006    Male   \n",
       "9   Estimated Population  2006    Male   \n",
       "10  Estimated Population  2006    Male   \n",
       "12  Estimated Population  2006  Female   \n",
       "\n",
       "                                          Nationality      UNIT   VALUE  \n",
       "6                                               Irish  Thousand  1887.4  \n",
       "7                                              UK (1)  Thousand    57.8  \n",
       "9   EU15 to EU27 (accession countries joined post ...  Thousand    79.9  \n",
       "10                            Other nationalities(17)  Thousand    70.9  \n",
       "12                                              Irish  Thousand  1914.9  "
      ]
     },
     "execution_count": 16,
     "metadata": {},
     "output_type": "execute_result"
    }
   ],
   "source": [
    "#Defining an index in the DF for th drop function \n",
    "\n",
    "index_def=df[(df['Nationality']=='All nationalities') | \n",
    "            (df['Nationality']=='EU14 excl Irl (countries in the EU pre 2004 excluding UK & Ireland)') |\n",
    "            (df['Sex']=='Both sexes')].index\n",
    "new_df=df.drop(index_def)\n",
    "new_df.head()"
   ]
  },
  {
   "cell_type": "code",
   "execution_count": 17,
   "id": "2165edd0",
   "metadata": {},
   "outputs": [
    {
     "data": {
      "text/plain": [
       "(136, 6)"
      ]
     },
     "execution_count": 17,
     "metadata": {},
     "output_type": "execute_result"
    }
   ],
   "source": [
    "#Shape & unique values of the new DF\n",
    "\n",
    "new_df.shape"
   ]
  },
  {
   "cell_type": "code",
   "execution_count": 18,
   "id": "6217828a",
   "metadata": {},
   "outputs": [
    {
     "data": {
      "text/html": [
       "<div>\n",
       "<style scoped>\n",
       "    .dataframe tbody tr th:only-of-type {\n",
       "        vertical-align: middle;\n",
       "    }\n",
       "\n",
       "    .dataframe tbody tr th {\n",
       "        vertical-align: top;\n",
       "    }\n",
       "\n",
       "    .dataframe thead th {\n",
       "        text-align: right;\n",
       "    }\n",
       "</style>\n",
       "<table border=\"1\" class=\"dataframe\">\n",
       "  <thead>\n",
       "    <tr style=\"text-align: right;\">\n",
       "      <th></th>\n",
       "      <th>Year</th>\n",
       "      <th>VALUE</th>\n",
       "    </tr>\n",
       "  </thead>\n",
       "  <tbody>\n",
       "    <tr>\n",
       "      <th>count</th>\n",
       "      <td>136.00000</td>\n",
       "      <td>136.000000</td>\n",
       "    </tr>\n",
       "    <tr>\n",
       "      <th>mean</th>\n",
       "      <td>2014.00000</td>\n",
       "      <td>578.111029</td>\n",
       "    </tr>\n",
       "    <tr>\n",
       "      <th>std</th>\n",
       "      <td>4.91709</td>\n",
       "      <td>859.759995</td>\n",
       "    </tr>\n",
       "    <tr>\n",
       "      <th>min</th>\n",
       "      <td>2006.00000</td>\n",
       "      <td>51.600000</td>\n",
       "    </tr>\n",
       "    <tr>\n",
       "      <th>25%</th>\n",
       "      <td>2010.00000</td>\n",
       "      <td>60.100000</td>\n",
       "    </tr>\n",
       "    <tr>\n",
       "      <th>50%</th>\n",
       "      <td>2014.00000</td>\n",
       "      <td>92.450000</td>\n",
       "    </tr>\n",
       "    <tr>\n",
       "      <th>75%</th>\n",
       "      <td>2018.00000</td>\n",
       "      <td>573.925000</td>\n",
       "    </tr>\n",
       "    <tr>\n",
       "      <th>max</th>\n",
       "      <td>2022.00000</td>\n",
       "      <td>2224.500000</td>\n",
       "    </tr>\n",
       "  </tbody>\n",
       "</table>\n",
       "</div>"
      ],
      "text/plain": [
       "             Year        VALUE\n",
       "count   136.00000   136.000000\n",
       "mean   2014.00000   578.111029\n",
       "std       4.91709   859.759995\n",
       "min    2006.00000    51.600000\n",
       "25%    2010.00000    60.100000\n",
       "50%    2014.00000    92.450000\n",
       "75%    2018.00000   573.925000\n",
       "max    2022.00000  2224.500000"
      ]
     },
     "execution_count": 18,
     "metadata": {},
     "output_type": "execute_result"
    }
   ],
   "source": [
    "new_df.describe()"
   ]
  },
  {
   "cell_type": "code",
   "execution_count": 19,
   "id": "e5950c2b",
   "metadata": {
    "scrolled": true
   },
   "outputs": [
    {
     "data": {
      "text/html": [
       "<div>\n",
       "<style scoped>\n",
       "    .dataframe tbody tr th:only-of-type {\n",
       "        vertical-align: middle;\n",
       "    }\n",
       "\n",
       "    .dataframe tbody tr th {\n",
       "        vertical-align: top;\n",
       "    }\n",
       "\n",
       "    .dataframe thead th {\n",
       "        text-align: right;\n",
       "    }\n",
       "</style>\n",
       "<table border=\"1\" class=\"dataframe\">\n",
       "  <thead>\n",
       "    <tr style=\"text-align: right;\">\n",
       "      <th></th>\n",
       "      <th>STATISTIC Label</th>\n",
       "      <th>Sex</th>\n",
       "      <th>Nationality</th>\n",
       "      <th>UNIT</th>\n",
       "    </tr>\n",
       "  </thead>\n",
       "  <tbody>\n",
       "    <tr>\n",
       "      <th>count</th>\n",
       "      <td>136</td>\n",
       "      <td>136</td>\n",
       "      <td>136</td>\n",
       "      <td>136</td>\n",
       "    </tr>\n",
       "    <tr>\n",
       "      <th>unique</th>\n",
       "      <td>1</td>\n",
       "      <td>2</td>\n",
       "      <td>4</td>\n",
       "      <td>1</td>\n",
       "    </tr>\n",
       "    <tr>\n",
       "      <th>top</th>\n",
       "      <td>Estimated Population</td>\n",
       "      <td>Male</td>\n",
       "      <td>Irish</td>\n",
       "      <td>Thousand</td>\n",
       "    </tr>\n",
       "    <tr>\n",
       "      <th>freq</th>\n",
       "      <td>136</td>\n",
       "      <td>68</td>\n",
       "      <td>34</td>\n",
       "      <td>136</td>\n",
       "    </tr>\n",
       "  </tbody>\n",
       "</table>\n",
       "</div>"
      ],
      "text/plain": [
       "             STATISTIC Label   Sex Nationality      UNIT\n",
       "count                    136   136         136       136\n",
       "unique                     1     2           4         1\n",
       "top     Estimated Population  Male       Irish  Thousand\n",
       "freq                     136    68          34       136"
      ]
     },
     "execution_count": 19,
     "metadata": {},
     "output_type": "execute_result"
    }
   ],
   "source": [
    "new_df.describe(include='object')"
   ]
  },
  {
   "cell_type": "markdown",
   "id": "1e532d9b",
   "metadata": {},
   "source": [
    "Now tere are only 4 nationalities & only 2 sexes, we dropped the variables that could've duplicated values"
   ]
  },
  {
   "cell_type": "code",
   "execution_count": 20,
   "id": "0c5cbc07",
   "metadata": {},
   "outputs": [
    {
     "data": {
      "text/plain": [
       "STATISTIC Label      1\n",
       "Year                17\n",
       "Sex                  2\n",
       "Nationality          4\n",
       "UNIT                 1\n",
       "VALUE              128\n",
       "dtype: int64"
      ]
     },
     "execution_count": 20,
     "metadata": {},
     "output_type": "execute_result"
    }
   ],
   "source": [
    "#Unique values in the new DF\n",
    "\n",
    "new_df.nunique()"
   ]
  },
  {
   "cell_type": "code",
   "execution_count": 21,
   "id": "2f49e78b",
   "metadata": {},
   "outputs": [
    {
     "data": {
      "text/plain": [
       "array(['Irish', 'UK (1)',\n",
       "       'EU15 to EU27 (accession countries joined post 2004)',\n",
       "       'Other nationalities(17)'], dtype=object)"
      ]
     },
     "execution_count": 21,
     "metadata": {},
     "output_type": "execute_result"
    }
   ],
   "source": [
    "#Nationalities in the new DF\n",
    "\n",
    "new_df['Nationality'].unique()"
   ]
  },
  {
   "cell_type": "code",
   "execution_count": 22,
   "id": "4467d4b1",
   "metadata": {},
   "outputs": [
    {
     "data": {
      "text/html": [
       "<div>\n",
       "<style scoped>\n",
       "    .dataframe tbody tr th:only-of-type {\n",
       "        vertical-align: middle;\n",
       "    }\n",
       "\n",
       "    .dataframe tbody tr th {\n",
       "        vertical-align: top;\n",
       "    }\n",
       "\n",
       "    .dataframe thead th {\n",
       "        text-align: right;\n",
       "    }\n",
       "</style>\n",
       "<table border=\"1\" class=\"dataframe\">\n",
       "  <thead>\n",
       "    <tr style=\"text-align: right;\">\n",
       "      <th></th>\n",
       "      <th>STATISTIC Label</th>\n",
       "      <th>Year</th>\n",
       "      <th>Sex</th>\n",
       "      <th>Nationality</th>\n",
       "      <th>UNIT</th>\n",
       "      <th>VALUE</th>\n",
       "    </tr>\n",
       "  </thead>\n",
       "  <tbody>\n",
       "    <tr>\n",
       "      <th>6</th>\n",
       "      <td>Estimated Population</td>\n",
       "      <td>2006</td>\n",
       "      <td>Male</td>\n",
       "      <td>Irish</td>\n",
       "      <td>Thousand</td>\n",
       "      <td>1887.4</td>\n",
       "    </tr>\n",
       "    <tr>\n",
       "      <th>7</th>\n",
       "      <td>Estimated Population</td>\n",
       "      <td>2006</td>\n",
       "      <td>Male</td>\n",
       "      <td>UK (1)</td>\n",
       "      <td>Thousand</td>\n",
       "      <td>57.8</td>\n",
       "    </tr>\n",
       "    <tr>\n",
       "      <th>9</th>\n",
       "      <td>Estimated Population</td>\n",
       "      <td>2006</td>\n",
       "      <td>Male</td>\n",
       "      <td>EU15 to EU27 (accession countries joined post ...</td>\n",
       "      <td>Thousand</td>\n",
       "      <td>79.9</td>\n",
       "    </tr>\n",
       "    <tr>\n",
       "      <th>10</th>\n",
       "      <td>Estimated Population</td>\n",
       "      <td>2006</td>\n",
       "      <td>Male</td>\n",
       "      <td>Other nationalities(17)</td>\n",
       "      <td>Thousand</td>\n",
       "      <td>70.9</td>\n",
       "    </tr>\n",
       "    <tr>\n",
       "      <th>24</th>\n",
       "      <td>Estimated Population</td>\n",
       "      <td>2007</td>\n",
       "      <td>Male</td>\n",
       "      <td>Irish</td>\n",
       "      <td>Thousand</td>\n",
       "      <td>1915.7</td>\n",
       "    </tr>\n",
       "  </tbody>\n",
       "</table>\n",
       "</div>"
      ],
      "text/plain": [
       "         STATISTIC Label  Year   Sex  \\\n",
       "6   Estimated Population  2006  Male   \n",
       "7   Estimated Population  2006  Male   \n",
       "9   Estimated Population  2006  Male   \n",
       "10  Estimated Population  2006  Male   \n",
       "24  Estimated Population  2007  Male   \n",
       "\n",
       "                                          Nationality      UNIT   VALUE  \n",
       "6                                               Irish  Thousand  1887.4  \n",
       "7                                              UK (1)  Thousand    57.8  \n",
       "9   EU15 to EU27 (accession countries joined post ...  Thousand    79.9  \n",
       "10                            Other nationalities(17)  Thousand    70.9  \n",
       "24                                              Irish  Thousand  1915.7  "
      ]
     },
     "execution_count": 22,
     "metadata": {},
     "output_type": "execute_result"
    }
   ],
   "source": [
    "#Create a dataset with male information only\n",
    "\n",
    "male_df = new_df[new_df.Sex == 'Male']\n",
    "male_df.head()"
   ]
  },
  {
   "cell_type": "code",
   "execution_count": 23,
   "id": "51b5efc6",
   "metadata": {},
   "outputs": [
    {
     "data": {
      "text/plain": [
       "STATISTIC Label     1\n",
       "Year               17\n",
       "Sex                 1\n",
       "Nationality         4\n",
       "UNIT                1\n",
       "VALUE              65\n",
       "dtype: int64"
      ]
     },
     "execution_count": 23,
     "metadata": {},
     "output_type": "execute_result"
    }
   ],
   "source": [
    "#Unique values in the male DF\n",
    "\n",
    "male_df.nunique()"
   ]
  },
  {
   "cell_type": "code",
   "execution_count": 24,
   "id": "c6ed64dd",
   "metadata": {},
   "outputs": [
    {
     "data": {
      "text/html": [
       "<div>\n",
       "<style scoped>\n",
       "    .dataframe tbody tr th:only-of-type {\n",
       "        vertical-align: middle;\n",
       "    }\n",
       "\n",
       "    .dataframe tbody tr th {\n",
       "        vertical-align: top;\n",
       "    }\n",
       "\n",
       "    .dataframe thead th {\n",
       "        text-align: right;\n",
       "    }\n",
       "</style>\n",
       "<table border=\"1\" class=\"dataframe\">\n",
       "  <thead>\n",
       "    <tr style=\"text-align: right;\">\n",
       "      <th></th>\n",
       "      <th>Year</th>\n",
       "      <th>VALUE</th>\n",
       "    </tr>\n",
       "  </thead>\n",
       "  <tbody>\n",
       "    <tr>\n",
       "      <th>count</th>\n",
       "      <td>68.000000</td>\n",
       "      <td>68.000000</td>\n",
       "    </tr>\n",
       "    <tr>\n",
       "      <th>mean</th>\n",
       "      <td>2014.000000</td>\n",
       "      <td>573.911765</td>\n",
       "    </tr>\n",
       "    <tr>\n",
       "      <th>std</th>\n",
       "      <td>4.935404</td>\n",
       "      <td>853.736551</td>\n",
       "    </tr>\n",
       "    <tr>\n",
       "      <th>min</th>\n",
       "      <td>2006.000000</td>\n",
       "      <td>53.600000</td>\n",
       "    </tr>\n",
       "    <tr>\n",
       "      <th>25%</th>\n",
       "      <td>2010.000000</td>\n",
       "      <td>60.475000</td>\n",
       "    </tr>\n",
       "    <tr>\n",
       "      <th>50%</th>\n",
       "      <td>2014.000000</td>\n",
       "      <td>100.350000</td>\n",
       "    </tr>\n",
       "    <tr>\n",
       "      <th>75%</th>\n",
       "      <td>2018.000000</td>\n",
       "      <td>572.275000</td>\n",
       "    </tr>\n",
       "    <tr>\n",
       "      <th>max</th>\n",
       "      <td>2022.000000</td>\n",
       "      <td>2172.000000</td>\n",
       "    </tr>\n",
       "  </tbody>\n",
       "</table>\n",
       "</div>"
      ],
      "text/plain": [
       "              Year        VALUE\n",
       "count    68.000000    68.000000\n",
       "mean   2014.000000   573.911765\n",
       "std       4.935404   853.736551\n",
       "min    2006.000000    53.600000\n",
       "25%    2010.000000    60.475000\n",
       "50%    2014.000000   100.350000\n",
       "75%    2018.000000   572.275000\n",
       "max    2022.000000  2172.000000"
      ]
     },
     "execution_count": 24,
     "metadata": {},
     "output_type": "execute_result"
    }
   ],
   "source": [
    "male_df.describe()"
   ]
  },
  {
   "cell_type": "code",
   "execution_count": 25,
   "id": "4f0ac78a",
   "metadata": {},
   "outputs": [
    {
     "data": {
      "text/html": [
       "<div>\n",
       "<style scoped>\n",
       "    .dataframe tbody tr th:only-of-type {\n",
       "        vertical-align: middle;\n",
       "    }\n",
       "\n",
       "    .dataframe tbody tr th {\n",
       "        vertical-align: top;\n",
       "    }\n",
       "\n",
       "    .dataframe thead th {\n",
       "        text-align: right;\n",
       "    }\n",
       "</style>\n",
       "<table border=\"1\" class=\"dataframe\">\n",
       "  <thead>\n",
       "    <tr style=\"text-align: right;\">\n",
       "      <th></th>\n",
       "      <th>STATISTIC Label</th>\n",
       "      <th>Sex</th>\n",
       "      <th>Nationality</th>\n",
       "      <th>UNIT</th>\n",
       "    </tr>\n",
       "  </thead>\n",
       "  <tbody>\n",
       "    <tr>\n",
       "      <th>count</th>\n",
       "      <td>68</td>\n",
       "      <td>68</td>\n",
       "      <td>68</td>\n",
       "      <td>68</td>\n",
       "    </tr>\n",
       "    <tr>\n",
       "      <th>unique</th>\n",
       "      <td>1</td>\n",
       "      <td>1</td>\n",
       "      <td>4</td>\n",
       "      <td>1</td>\n",
       "    </tr>\n",
       "    <tr>\n",
       "      <th>top</th>\n",
       "      <td>Estimated Population</td>\n",
       "      <td>Male</td>\n",
       "      <td>Irish</td>\n",
       "      <td>Thousand</td>\n",
       "    </tr>\n",
       "    <tr>\n",
       "      <th>freq</th>\n",
       "      <td>68</td>\n",
       "      <td>68</td>\n",
       "      <td>17</td>\n",
       "      <td>68</td>\n",
       "    </tr>\n",
       "  </tbody>\n",
       "</table>\n",
       "</div>"
      ],
      "text/plain": [
       "             STATISTIC Label   Sex Nationality      UNIT\n",
       "count                     68    68          68        68\n",
       "unique                     1     1           4         1\n",
       "top     Estimated Population  Male       Irish  Thousand\n",
       "freq                      68    68          17        68"
      ]
     },
     "execution_count": 25,
     "metadata": {},
     "output_type": "execute_result"
    }
   ],
   "source": [
    "male_df.describe(include='object')"
   ]
  },
  {
   "cell_type": "code",
   "execution_count": 26,
   "id": "e34832b7",
   "metadata": {},
   "outputs": [
    {
     "data": {
      "text/html": [
       "<div>\n",
       "<style scoped>\n",
       "    .dataframe tbody tr th:only-of-type {\n",
       "        vertical-align: middle;\n",
       "    }\n",
       "\n",
       "    .dataframe tbody tr th {\n",
       "        vertical-align: top;\n",
       "    }\n",
       "\n",
       "    .dataframe thead th {\n",
       "        text-align: right;\n",
       "    }\n",
       "</style>\n",
       "<table border=\"1\" class=\"dataframe\">\n",
       "  <thead>\n",
       "    <tr style=\"text-align: right;\">\n",
       "      <th></th>\n",
       "      <th>STATISTIC Label</th>\n",
       "      <th>Year</th>\n",
       "      <th>Sex</th>\n",
       "      <th>Nationality</th>\n",
       "      <th>UNIT</th>\n",
       "      <th>VALUE</th>\n",
       "    </tr>\n",
       "  </thead>\n",
       "  <tbody>\n",
       "    <tr>\n",
       "      <th>294</th>\n",
       "      <td>Estimated Population</td>\n",
       "      <td>2022</td>\n",
       "      <td>Male</td>\n",
       "      <td>Irish</td>\n",
       "      <td>Thousand</td>\n",
       "      <td>2172.0</td>\n",
       "    </tr>\n",
       "    <tr>\n",
       "      <th>276</th>\n",
       "      <td>Estimated Population</td>\n",
       "      <td>2021</td>\n",
       "      <td>Male</td>\n",
       "      <td>Irish</td>\n",
       "      <td>Thousand</td>\n",
       "      <td>2159.4</td>\n",
       "    </tr>\n",
       "    <tr>\n",
       "      <th>258</th>\n",
       "      <td>Estimated Population</td>\n",
       "      <td>2020</td>\n",
       "      <td>Male</td>\n",
       "      <td>Irish</td>\n",
       "      <td>Thousand</td>\n",
       "      <td>2142.9</td>\n",
       "    </tr>\n",
       "    <tr>\n",
       "      <th>240</th>\n",
       "      <td>Estimated Population</td>\n",
       "      <td>2019</td>\n",
       "      <td>Male</td>\n",
       "      <td>Irish</td>\n",
       "      <td>Thousand</td>\n",
       "      <td>2126.2</td>\n",
       "    </tr>\n",
       "    <tr>\n",
       "      <th>222</th>\n",
       "      <td>Estimated Population</td>\n",
       "      <td>2018</td>\n",
       "      <td>Male</td>\n",
       "      <td>Irish</td>\n",
       "      <td>Thousand</td>\n",
       "      <td>2109.0</td>\n",
       "    </tr>\n",
       "  </tbody>\n",
       "</table>\n",
       "</div>"
      ],
      "text/plain": [
       "          STATISTIC Label  Year   Sex Nationality      UNIT   VALUE\n",
       "294  Estimated Population  2022  Male       Irish  Thousand  2172.0\n",
       "276  Estimated Population  2021  Male       Irish  Thousand  2159.4\n",
       "258  Estimated Population  2020  Male       Irish  Thousand  2142.9\n",
       "240  Estimated Population  2019  Male       Irish  Thousand  2126.2\n",
       "222  Estimated Population  2018  Male       Irish  Thousand  2109.0"
      ]
     },
     "execution_count": 26,
     "metadata": {},
     "output_type": "execute_result"
    }
   ],
   "source": [
    "male_df.sort_values('VALUE', ascending=False).head()"
   ]
  },
  {
   "cell_type": "markdown",
   "id": "e046b44a",
   "metadata": {},
   "source": [
    "We can see that we still have the 17 years, the relevant nationalities but only 1 unique value in SEX <br>\n",
    "Let's do the same for the FEMALE population"
   ]
  },
  {
   "cell_type": "code",
   "execution_count": 27,
   "id": "7b5e6375",
   "metadata": {},
   "outputs": [
    {
     "data": {
      "text/html": [
       "<div>\n",
       "<style scoped>\n",
       "    .dataframe tbody tr th:only-of-type {\n",
       "        vertical-align: middle;\n",
       "    }\n",
       "\n",
       "    .dataframe tbody tr th {\n",
       "        vertical-align: top;\n",
       "    }\n",
       "\n",
       "    .dataframe thead th {\n",
       "        text-align: right;\n",
       "    }\n",
       "</style>\n",
       "<table border=\"1\" class=\"dataframe\">\n",
       "  <thead>\n",
       "    <tr style=\"text-align: right;\">\n",
       "      <th></th>\n",
       "      <th>STATISTIC Label</th>\n",
       "      <th>Year</th>\n",
       "      <th>Sex</th>\n",
       "      <th>Nationality</th>\n",
       "      <th>UNIT</th>\n",
       "      <th>VALUE</th>\n",
       "    </tr>\n",
       "  </thead>\n",
       "  <tbody>\n",
       "    <tr>\n",
       "      <th>12</th>\n",
       "      <td>Estimated Population</td>\n",
       "      <td>2006</td>\n",
       "      <td>Female</td>\n",
       "      <td>Irish</td>\n",
       "      <td>Thousand</td>\n",
       "      <td>1914.9</td>\n",
       "    </tr>\n",
       "    <tr>\n",
       "      <th>13</th>\n",
       "      <td>Estimated Population</td>\n",
       "      <td>2006</td>\n",
       "      <td>Female</td>\n",
       "      <td>UK (1)</td>\n",
       "      <td>Thousand</td>\n",
       "      <td>57.7</td>\n",
       "    </tr>\n",
       "    <tr>\n",
       "      <th>15</th>\n",
       "      <td>Estimated Population</td>\n",
       "      <td>2006</td>\n",
       "      <td>Female</td>\n",
       "      <td>EU15 to EU27 (accession countries joined post ...</td>\n",
       "      <td>Thousand</td>\n",
       "      <td>52.6</td>\n",
       "    </tr>\n",
       "    <tr>\n",
       "      <th>16</th>\n",
       "      <td>Estimated Population</td>\n",
       "      <td>2006</td>\n",
       "      <td>Female</td>\n",
       "      <td>Other nationalities(17)</td>\n",
       "      <td>Thousand</td>\n",
       "      <td>67.9</td>\n",
       "    </tr>\n",
       "    <tr>\n",
       "      <th>30</th>\n",
       "      <td>Estimated Population</td>\n",
       "      <td>2007</td>\n",
       "      <td>Female</td>\n",
       "      <td>Irish</td>\n",
       "      <td>Thousand</td>\n",
       "      <td>1940.5</td>\n",
       "    </tr>\n",
       "  </tbody>\n",
       "</table>\n",
       "</div>"
      ],
      "text/plain": [
       "         STATISTIC Label  Year     Sex  \\\n",
       "12  Estimated Population  2006  Female   \n",
       "13  Estimated Population  2006  Female   \n",
       "15  Estimated Population  2006  Female   \n",
       "16  Estimated Population  2006  Female   \n",
       "30  Estimated Population  2007  Female   \n",
       "\n",
       "                                          Nationality      UNIT   VALUE  \n",
       "12                                              Irish  Thousand  1914.9  \n",
       "13                                             UK (1)  Thousand    57.7  \n",
       "15  EU15 to EU27 (accession countries joined post ...  Thousand    52.6  \n",
       "16                            Other nationalities(17)  Thousand    67.9  \n",
       "30                                              Irish  Thousand  1940.5  "
      ]
     },
     "execution_count": 27,
     "metadata": {},
     "output_type": "execute_result"
    }
   ],
   "source": [
    "#Create a dataset with female information only\n",
    "\n",
    "female_df = new_df[new_df.Sex == 'Female']\n",
    "female_df.head()"
   ]
  },
  {
   "cell_type": "code",
   "execution_count": 28,
   "id": "55213495",
   "metadata": {},
   "outputs": [
    {
     "data": {
      "text/html": [
       "<div>\n",
       "<style scoped>\n",
       "    .dataframe tbody tr th:only-of-type {\n",
       "        vertical-align: middle;\n",
       "    }\n",
       "\n",
       "    .dataframe tbody tr th {\n",
       "        vertical-align: top;\n",
       "    }\n",
       "\n",
       "    .dataframe thead th {\n",
       "        text-align: right;\n",
       "    }\n",
       "</style>\n",
       "<table border=\"1\" class=\"dataframe\">\n",
       "  <thead>\n",
       "    <tr style=\"text-align: right;\">\n",
       "      <th></th>\n",
       "      <th>Year</th>\n",
       "      <th>VALUE</th>\n",
       "    </tr>\n",
       "  </thead>\n",
       "  <tbody>\n",
       "    <tr>\n",
       "      <th>count</th>\n",
       "      <td>68.000000</td>\n",
       "      <td>68.000000</td>\n",
       "    </tr>\n",
       "    <tr>\n",
       "      <th>mean</th>\n",
       "      <td>2014.000000</td>\n",
       "      <td>582.310294</td>\n",
       "    </tr>\n",
       "    <tr>\n",
       "      <th>std</th>\n",
       "      <td>4.935404</td>\n",
       "      <td>872.069522</td>\n",
       "    </tr>\n",
       "    <tr>\n",
       "      <th>min</th>\n",
       "      <td>2006.000000</td>\n",
       "      <td>51.600000</td>\n",
       "    </tr>\n",
       "    <tr>\n",
       "      <th>25%</th>\n",
       "      <td>2010.000000</td>\n",
       "      <td>58.950000</td>\n",
       "    </tr>\n",
       "    <tr>\n",
       "      <th>50%</th>\n",
       "      <td>2014.000000</td>\n",
       "      <td>89.400000</td>\n",
       "    </tr>\n",
       "    <tr>\n",
       "      <th>75%</th>\n",
       "      <td>2018.000000</td>\n",
       "      <td>580.800000</td>\n",
       "    </tr>\n",
       "    <tr>\n",
       "      <th>max</th>\n",
       "      <td>2022.000000</td>\n",
       "      <td>2224.500000</td>\n",
       "    </tr>\n",
       "  </tbody>\n",
       "</table>\n",
       "</div>"
      ],
      "text/plain": [
       "              Year        VALUE\n",
       "count    68.000000    68.000000\n",
       "mean   2014.000000   582.310294\n",
       "std       4.935404   872.069522\n",
       "min    2006.000000    51.600000\n",
       "25%    2010.000000    58.950000\n",
       "50%    2014.000000    89.400000\n",
       "75%    2018.000000   580.800000\n",
       "max    2022.000000  2224.500000"
      ]
     },
     "execution_count": 28,
     "metadata": {},
     "output_type": "execute_result"
    }
   ],
   "source": [
    "female_df.describe()"
   ]
  },
  {
   "cell_type": "code",
   "execution_count": 29,
   "id": "a625b821",
   "metadata": {},
   "outputs": [
    {
     "data": {
      "text/html": [
       "<div>\n",
       "<style scoped>\n",
       "    .dataframe tbody tr th:only-of-type {\n",
       "        vertical-align: middle;\n",
       "    }\n",
       "\n",
       "    .dataframe tbody tr th {\n",
       "        vertical-align: top;\n",
       "    }\n",
       "\n",
       "    .dataframe thead th {\n",
       "        text-align: right;\n",
       "    }\n",
       "</style>\n",
       "<table border=\"1\" class=\"dataframe\">\n",
       "  <thead>\n",
       "    <tr style=\"text-align: right;\">\n",
       "      <th></th>\n",
       "      <th>STATISTIC Label</th>\n",
       "      <th>Sex</th>\n",
       "      <th>Nationality</th>\n",
       "      <th>UNIT</th>\n",
       "    </tr>\n",
       "  </thead>\n",
       "  <tbody>\n",
       "    <tr>\n",
       "      <th>count</th>\n",
       "      <td>68</td>\n",
       "      <td>68</td>\n",
       "      <td>68</td>\n",
       "      <td>68</td>\n",
       "    </tr>\n",
       "    <tr>\n",
       "      <th>unique</th>\n",
       "      <td>1</td>\n",
       "      <td>1</td>\n",
       "      <td>4</td>\n",
       "      <td>1</td>\n",
       "    </tr>\n",
       "    <tr>\n",
       "      <th>top</th>\n",
       "      <td>Estimated Population</td>\n",
       "      <td>Female</td>\n",
       "      <td>Irish</td>\n",
       "      <td>Thousand</td>\n",
       "    </tr>\n",
       "    <tr>\n",
       "      <th>freq</th>\n",
       "      <td>68</td>\n",
       "      <td>68</td>\n",
       "      <td>17</td>\n",
       "      <td>68</td>\n",
       "    </tr>\n",
       "  </tbody>\n",
       "</table>\n",
       "</div>"
      ],
      "text/plain": [
       "             STATISTIC Label     Sex Nationality      UNIT\n",
       "count                     68      68          68        68\n",
       "unique                     1       1           4         1\n",
       "top     Estimated Population  Female       Irish  Thousand\n",
       "freq                      68      68          17        68"
      ]
     },
     "execution_count": 29,
     "metadata": {},
     "output_type": "execute_result"
    }
   ],
   "source": [
    "female_df.describe(include='object')"
   ]
  },
  {
   "cell_type": "code",
   "execution_count": 30,
   "id": "b7598cbe",
   "metadata": {},
   "outputs": [
    {
     "data": {
      "text/html": [
       "<div>\n",
       "<style scoped>\n",
       "    .dataframe tbody tr th:only-of-type {\n",
       "        vertical-align: middle;\n",
       "    }\n",
       "\n",
       "    .dataframe tbody tr th {\n",
       "        vertical-align: top;\n",
       "    }\n",
       "\n",
       "    .dataframe thead th {\n",
       "        text-align: right;\n",
       "    }\n",
       "</style>\n",
       "<table border=\"1\" class=\"dataframe\">\n",
       "  <thead>\n",
       "    <tr style=\"text-align: right;\">\n",
       "      <th></th>\n",
       "      <th>STATISTIC Label</th>\n",
       "      <th>Year</th>\n",
       "      <th>Sex</th>\n",
       "      <th>Nationality</th>\n",
       "      <th>UNIT</th>\n",
       "      <th>VALUE</th>\n",
       "    </tr>\n",
       "  </thead>\n",
       "  <tbody>\n",
       "    <tr>\n",
       "      <th>300</th>\n",
       "      <td>Estimated Population</td>\n",
       "      <td>2022</td>\n",
       "      <td>Female</td>\n",
       "      <td>Irish</td>\n",
       "      <td>Thousand</td>\n",
       "      <td>2224.5</td>\n",
       "    </tr>\n",
       "    <tr>\n",
       "      <th>282</th>\n",
       "      <td>Estimated Population</td>\n",
       "      <td>2021</td>\n",
       "      <td>Female</td>\n",
       "      <td>Irish</td>\n",
       "      <td>Thousand</td>\n",
       "      <td>2206.5</td>\n",
       "    </tr>\n",
       "    <tr>\n",
       "      <th>264</th>\n",
       "      <td>Estimated Population</td>\n",
       "      <td>2020</td>\n",
       "      <td>Female</td>\n",
       "      <td>Irish</td>\n",
       "      <td>Thousand</td>\n",
       "      <td>2190.2</td>\n",
       "    </tr>\n",
       "    <tr>\n",
       "      <th>246</th>\n",
       "      <td>Estimated Population</td>\n",
       "      <td>2019</td>\n",
       "      <td>Female</td>\n",
       "      <td>Irish</td>\n",
       "      <td>Thousand</td>\n",
       "      <td>2172.7</td>\n",
       "    </tr>\n",
       "    <tr>\n",
       "      <th>228</th>\n",
       "      <td>Estimated Population</td>\n",
       "      <td>2018</td>\n",
       "      <td>Female</td>\n",
       "      <td>Irish</td>\n",
       "      <td>Thousand</td>\n",
       "      <td>2154.5</td>\n",
       "    </tr>\n",
       "  </tbody>\n",
       "</table>\n",
       "</div>"
      ],
      "text/plain": [
       "          STATISTIC Label  Year     Sex Nationality      UNIT   VALUE\n",
       "300  Estimated Population  2022  Female       Irish  Thousand  2224.5\n",
       "282  Estimated Population  2021  Female       Irish  Thousand  2206.5\n",
       "264  Estimated Population  2020  Female       Irish  Thousand  2190.2\n",
       "246  Estimated Population  2019  Female       Irish  Thousand  2172.7\n",
       "228  Estimated Population  2018  Female       Irish  Thousand  2154.5"
      ]
     },
     "execution_count": 30,
     "metadata": {},
     "output_type": "execute_result"
    }
   ],
   "source": [
    "female_df.sort_values('VALUE', ascending=False).head()"
   ]
  },
  {
   "cell_type": "markdown",
   "id": "0c08325c",
   "metadata": {},
   "source": [
    "## Plot relevant variables"
   ]
  },
  {
   "cell_type": "markdown",
   "id": "fb069b4f",
   "metadata": {},
   "source": [
    "### Population plot"
   ]
  },
  {
   "cell_type": "code",
   "execution_count": 31,
   "id": "48d058e3",
   "metadata": {},
   "outputs": [],
   "source": [
    "from numpy import mean"
   ]
  },
  {
   "cell_type": "code",
   "execution_count": 32,
   "id": "c9baca6c",
   "metadata": {},
   "outputs": [
    {
     "data": {
      "image/png": "[encoded data removed]",
      "text/plain": [
       "<Figure size 1000x500 with 1 Axes>"
      ]
     },
     "metadata": {},
     "output_type": "display_data"
    }
   ],
   "source": [
    "plt.figure(figsize=(10,5))\n",
    "sns.barplot(x=\"Year\", y=\"VALUE\", hue='Nationality', data=new_df)\n",
    "plt.legend(bbox_to_anchor=(.5,-.37), loc='lower center')\n",
    "plt.title(\"Ireland population\");"
   ]
  },
  {
   "cell_type": "markdown",
   "id": "d3b5f217",
   "metadata": {},
   "source": [
    "#### A different visualization as a **Line Plot**"
   ]
  },
  {
   "cell_type": "code",
   "execution_count": 33,
   "id": "fcc26589",
   "metadata": {},
   "outputs": [
    {
     "data": {
      "image/png": "[encoded data removed]",
      "text/plain": [
       "<Figure size 1000x500 with 1 Axes>"
      ]
     },
     "metadata": {},
     "output_type": "display_data"
    }
   ],
   "source": [
    "plt.figure(figsize=(10,5))\n",
    "sns.lineplot(data = new_df, x = 'Year', y = 'VALUE', hue = 'Nationality')\n",
    "plt.title('Population in Ireland')\n",
    "plt.legend(bbox_to_anchor=(.5,-.34), loc='lower center');"
   ]
  },
  {
   "cell_type": "markdown",
   "id": "1c5908fe",
   "metadata": {},
   "source": [
    "### Another visualization showing percentages"
   ]
  },
  {
   "cell_type": "code",
   "execution_count": 103,
   "id": "1da9493e",
   "metadata": {},
   "outputs": [],
   "source": [
    "def pltpie(year,title):  #Creates a function to plot Pie chart based on the year\n",
    "    \n",
    "    #Create df\n",
    "    pop=new_df[new_df.Year==year]\n",
    "    \n",
    "    #Create variables\n",
    "    labels=pop.Nationality\n",
    "    sizes=pop.VALUE\n",
    "    \n",
    "    #Plot Pie Chart\n",
    "    fig, ax=plt.subplots(figsize=(10,5))\n",
    "    ax.pie(sizes,labels=labels,autopct='%1.1f%%');\n",
    "    ax.axis('equal')\n",
    "    ax.set_title(title + year)\n",
    "    plt.legend(pop.Sex, loc=\"best\")"
   ]
  },
  {
   "cell_type": "code",
   "execution_count": 106,
   "id": "48429ae7",
   "metadata": {},
   "outputs": [
    {
     "data": {
      "image/png": "[encoded data removed]",
      "text/plain": [
       "<Figure size 1000x500 with 1 Axes>"
      ]
     },
     "metadata": {},
     "output_type": "display_data"
    }
   ],
   "source": [
    "pltpie(2008,'Population in Ireland in ')"
   ]
  },
  {
   "cell_type": "code",
   "execution_count": 94,
   "id": "8c0784de",
   "metadata": {},
   "outputs": [
    {
     "name": "stdout",
     "output_type": "stream",
     "text": [
      "Which year would you like to plot? \n",
      "98\n",
      "Please enter a year between 2006 & 2022\n"
     ]
    }
   ],
   "source": [
    "year=int(input('Which year would you like to plot? \\n'))\n",
    "if year>=2006 and year<=2022 :\n",
    "   pltpie(year,'Population in Ireland in')\n",
    "else:\n",
    "    print('Please enter a year between 2006 & 2022')\n"
   ]
  },
  {
   "cell_type": "code",
   "execution_count": 108,
   "id": "5cb60e1d",
   "metadata": {},
   "outputs": [
    {
     "name": "stdout",
     "output_type": "stream",
     "text": [
      "Which year would you like to plot? \n",
      "2008\n"
     ]
    },
    {
     "data": {
      "image/png": "[encoded data removed]",
      "text/plain": [
       "<Figure size 1000x500 with 1 Axes>"
      ]
     },
     "metadata": {},
     "output_type": "display_data"
    }
   ],
   "source": [
    "year=int(input('Which year would you like to plot? \\n'))\n",
    "if year==2006:\n",
    "   pltpie(2006,'Population in Ireland in 2006')\n",
    "elif year==2007:\n",
    "    pltpie(2007,'Population in Ireland in 2007')\n",
    "elif year==2008:\n",
    "    pltpie(2008,'Population in Ireland in 2008')\n",
    "elif year==2009:\n",
    "    pltpie(2009,'Population in Ireland in 2009')\n",
    "elif year==2010:\n",
    "    pltpie(2010,'Population in Ireland in 2010')\n",
    "elif year==2007:\n",
    "    pltpie(2011,'Population in Ireland in 2011')\n",
    "elif year==20012:\n",
    "    pltpie(2012,'Population in Ireland in 2012')\n",
    "elif year==2013:\n",
    "    pltpie(2013,'Population in Ireland in 2013')\n",
    "elif year==2014:\n",
    "    pltpie(2014,'Population in Ireland in 2014')\n",
    "elif year==2015:\n",
    "    pltpie(2015,'Population in Ireland in 2015')\n",
    "elif year==2016:\n",
    "    pltpie(2016,'Population in Ireland in 2016')\n",
    "elif year==2017:\n",
    "    pltpie(2017,'Population in Ireland in 2017')\n",
    "elif year==2018:\n",
    "    pltpie(2018,'Population in Ireland in 2018')\n",
    "elif year==2019:\n",
    "    pltpie(2019,'Population in Ireland in 2019')\n",
    "elif year==2020:\n",
    "    pltpie(2020,'Population in Ireland in 2020')\n",
    "elif year==2021:\n",
    "    pltpie(2021,'Population in Ireland in 2021')\n",
    "elif year==2022:\n",
    "    pltpie(2022,'Population in Ireland in 2022')\n",
    "else:\n",
    "    print('Please enter a year between 2006 & 2022')"
   ]
  },
  {
   "cell_type": "code",
   "execution_count": null,
   "id": "1f58e0b6",
   "metadata": {},
   "outputs": [],
   "source": [
    "pop_2006=new_df[new_df.Year==2006]\n",
    "\n",
    "pop_2007=new_df[new_df.Year==2007]\n",
    "\n",
    "pop_2008=new_df[new_df.Year==2008]\n",
    "\n",
    "pop_2009=new_df[new_df.Year==2009]\n",
    "\n",
    "pop_2010=new_df[new_df.Year==2010]\n",
    "\n",
    "pop_2011=new_df[new_df.Year==2011]\n",
    "\n",
    "pop_2012=new_df[new_df.Year==2012]\n",
    "\n",
    "pop_2013=new_df[new_df.Year==2013]\n",
    "\n",
    "pop_2014=new_df[new_df.Year==2014]\n",
    "\n",
    "pop_2015=new_df[new_df.Year==2015]\n",
    "\n",
    "pop_2016=new_df[new_df.Year==2016]\n",
    "# Plot new DF\n",
    "\n",
    "labels_2006=pop_2006.Nationality\n",
    "sizes_2006=pop_2006.VALUE\n",
    "\n",
    "labels_2007=pop_2007.Nationality\n",
    "sizes_2007=pop_2007.VALUE\n",
    "\n",
    "labels_2008=pop_2008.Nationality\n",
    "sizes_2008=pop_2008.VALUE\n",
    "\n",
    "labels_2009=pop_2009.Nationality\n",
    "sizes_2009=pop_2009.VALUE\n",
    "\n",
    "labels_2010=pop_2010.Nationality\n",
    "sizes_2010=pop_2010.VALUE\n",
    "\n",
    "labels_2011=pop_2011.Nationality\n",
    "sizes_2011=pop_2011.VALUE\n",
    "\n",
    "labels_2012=pop_2012.Nationality\n",
    "sizes_2012=pop_2012.VALUE\n",
    "\n",
    "labels_2013=pop_2013.Nationality\n",
    "sizes_2013=pop_2013.VALUE\n",
    "\n",
    "labels_2014=pop_2014.Nationality\n",
    "sizes_2014=pop_2014.VALUE\n",
    "\n",
    "labels_2015=pop_2015.Nationality\n",
    "sizes_2015=pop_2015.VALUE\n",
    "\n",
    "labels_2016=pop_2016.Nationality\n",
    "sizes_2016=pop_2016.VALUE\n",
    "\n",
    "#explode=(0.1,0.1,0.1,0.1,)\n",
    "\n",
    "plt.figure(0)\n",
    "fig, ax=plt.subplots(figsize=(10,5))\n",
    "ax.pie(sizes_2006,labels=labels_2006,autopct='%1.1f%%');\n",
    "ax.axis('equal')\n",
    "ax.set_title('Population in Ireland in 2006')\n",
    "plt.legend(pop_2006.Sex, loc=\"best\")\n",
    "\n",
    "plt.figure(1)\n",
    "fig, ax=plt.subplots(figsize=(10,5))\n",
    "ax.pie(sizes_2007,labels=labels_2007,autopct='%1.1f%%');\n",
    "ax.axis('equal')\n",
    "ax.set_title('Population in Ireland in 2007');\n",
    "plt.legend(new_df.Sex, loc=\"best\");\n",
    "\n",
    "plt.figure(2)\n",
    "fig, ax=plt.subplots(figsize=(10,5))\n",
    "ax.pie(sizes_2008,labels=labels_2008,autopct='%1.1f%%');\n",
    "ax.axis('equal')\n",
    "ax.set_title('Population in Ireland in 2008');\n",
    "plt.legend(new_df.Sex, loc=\"best\");\n"
   ]
  },
  {
   "cell_type": "code",
   "execution_count": null,
   "id": "708d7bac",
   "metadata": {},
   "outputs": [],
   "source": [
    "# Create index for the new df\n",
    "#index_def2=df[(df['Nationality']=='All nationalities') | \n",
    "#            (df['Nationality']=='EU14 excl Irl (countries in the EU pre 2004 excluding UK & Ireland)') |\n",
    "#            (df['Sex']!='Both sexes')].index\n",
    "#mixed_df=df.drop(index_def2)\n",
    "\n",
    "# Create new DF\n",
    "\n",
    "pop_2006=new_df[new_df.Year==2006]\n",
    "\n",
    "pop_2007=new_df[new_df.Year==2007]\n",
    "\n",
    "pop_2008=new_df[new_df.Year==2008]\n",
    "# Plot new DF\n",
    "\n",
    "labels_2006=pop_2006.Sex\n",
    "sizes_2006=pop_2006.VALUE\n",
    "\n",
    "labels_2007=pop_2007.Sex\n",
    "sizes_2007=pop_2007.VALUE\n",
    "\n",
    "labels_2008=pop_2008.Sex\n",
    "sizes_2008=pop_2008.VALUE\n",
    "\n",
    "#explode=(0.1,0.1,0.1,0.1,)\n",
    "\n",
    "fig, (ax1,ax2,ax3)=plt.subplots(1,2,3,figsize=(10,5))\n",
    "\n",
    "ax1.pie(sizes_2006,labels=labels_2006,autopct='%1.1f%%');\n",
    "ax1.axis('equal')\n",
    "ax1.set_title('Population in Ireland in 2006')\n",
    "#plt.legend(pop_2006.Nationality, loc=\"lower center\")\n",
    "\n",
    "ax2.pie(sizes_2007,labels=labels_2007,autopct='%1.1f%%');\n",
    "ax2.axis('equal')\n",
    "ax2.set_title('Population in Ireland in 2007');\n",
    "plt.legend(new_df.Nationality, loc=\"lower center\");\n",
    "\n",
    "ax3.pie(sizes_2008,labels=labels_2008,autopct='%1.1f%%');\n",
    "ax3.axis('equal')\n",
    "ax3.set_title('Population in Ireland in 2008');\n",
    "plt.legend(new_df.Nationality, loc=\"lower center\");\n",
    "\n",
    "plt.show();"
   ]
  },
  {
   "cell_type": "markdown",
   "id": "d123a6b3",
   "metadata": {},
   "source": [
    "We can see that Irish population is way bigger than any other, so let's create a new DF without Irish population & a DF containing only Iris population"
   ]
  },
  {
   "cell_type": "markdown",
   "id": "005f7c95",
   "metadata": {},
   "source": [
    "## Irish population plot"
   ]
  },
  {
   "cell_type": "code",
   "execution_count": null,
   "id": "5213efbd",
   "metadata": {
    "scrolled": true
   },
   "outputs": [],
   "source": [
    "# Irish population\n",
    "\n",
    "popI_df = new_df[new_df.Nationality == 'Irish']\n",
    "popI_df.head()"
   ]
  },
  {
   "cell_type": "code",
   "execution_count": null,
   "id": "447f6987",
   "metadata": {},
   "outputs": [],
   "source": [
    "popI_df.shape"
   ]
  },
  {
   "cell_type": "code",
   "execution_count": null,
   "id": "bd7bd1da",
   "metadata": {},
   "outputs": [],
   "source": [
    "# Irish population bar plot\n",
    "\n",
    "plt.figure(figsize=(10,5))\n",
    "sns.barplot(x=\"Year\", y=\"VALUE\", hue='Sex', data=popI_df)\n",
    "plt.title('Irish population')\n",
    "plt.legend(bbox_to_anchor=(1.15,1),loc='upper right',borderaxespad=0.)\n",
    "\n",
    "# Irish population line plot\n",
    "plt.figure(figsize=(10,5))\n",
    "sns.lineplot(data = popI_df, x = 'Year', y = 'VALUE', hue = 'Sex')\n",
    "plt.title('Irish Population')\n",
    "plt.legend(bbox_to_anchor=(1.15,1),loc='upper right',borderaxespad=0.)\n",
    "\n",
    "# Iris population pie chart\n",
    "\n",
    "labels_ip=popI_df.Sex\n",
    "sizes_ip=popI_df.VALUE\n",
    "\n",
    "fig, ax=plt.subplots(figsize=(15,5))\n",
    "ax.pie(sizes_ip,labels=labels_ip,autopct='%1.1f%%');\n",
    "ax.axis('equal')\n",
    "plt.legend(popI_df.Year, loc=\"best\")\n",
    "ax.set_title('Irish Population in Ireland in 2006-2022');"
   ]
  },
  {
   "cell_type": "markdown",
   "id": "2fa3c06e",
   "metadata": {},
   "source": [
    "### Non-Irish population plot"
   ]
  },
  {
   "cell_type": "markdown",
   "id": "7ee12be0",
   "metadata": {},
   "source": [
    "Now let's plot Non-Irish population"
   ]
  },
  {
   "cell_type": "code",
   "execution_count": null,
   "id": "d2c0ca32",
   "metadata": {},
   "outputs": [],
   "source": [
    "# Non-Irish population\n",
    "\n",
    "nonI_df = new_df[new_df.Nationality != 'Irish']\n",
    "nonI_df.head()"
   ]
  },
  {
   "cell_type": "code",
   "execution_count": null,
   "id": "1b5a6719",
   "metadata": {},
   "outputs": [],
   "source": [
    "# Non-Irish population Bar plot\n",
    "\n",
    "plt.figure(figsize=(10,5))\n",
    "sns.barplot(x=\"Year\", y=\"VALUE\", hue='Nationality', data=nonI_df)\n",
    "plt.title(\"Non-Irish population in Ireland\")\n",
    "plt.legend(bbox_to_anchor=(.5,-.3), loc='lower center',borderaxespad=-1)\n",
    "\n",
    "# Non-Irish population line plot\n",
    "\n",
    "plt.figure(figsize=(10,5))\n",
    "sns.lineplot(data = nonI_df, x = 'Year', y = 'VALUE', hue = 'Nationality', style = 'Sex')\n",
    "plt.title('Non-Irish Population in Ireland')\n",
    "plt.legend(bbox_to_anchor=(.5,-0.5), loc='lower center',borderaxespad=-.5)"
   ]
  },
  {
   "cell_type": "code",
   "execution_count": null,
   "id": "3c0f6246",
   "metadata": {},
   "outputs": [],
   "source": [
    "# Dataframe for Female Non-Irish population\n",
    "\n",
    "fnonI_df = nonI_df[nonI_df.Sex == 'Female']\n",
    "fnonI_df.head()"
   ]
  },
  {
   "cell_type": "code",
   "execution_count": null,
   "id": "7d0abea6",
   "metadata": {},
   "outputs": [],
   "source": [
    "# Dataframe for Male non-Irish population\n",
    "\n",
    "mnonI_df = nonI_df[nonI_df.Sex == 'Male']\n",
    "mnonI_df.head()"
   ]
  },
  {
   "cell_type": "code",
   "execution_count": null,
   "id": "65c780fc",
   "metadata": {},
   "outputs": [],
   "source": [
    "# Barplot Female non-Irish population dataset\n",
    "\n",
    "plt.figure(figsize=(10,5))\n",
    "sns.barplot(x=\"Year\", y=\"VALUE\", hue='Nationality', data=fnonI_df)\n",
    "plt.title('Ireland Non-Irish Female Population')\n",
    "plt.legend(bbox_to_anchor=(.5,-.32), loc='lower center')\n",
    "\n",
    "# Lineplot Female non-Irish population\n",
    "\n",
    "plt.figure(figsize=(10,5))\n",
    "sns.lineplot(data = fnonI_df, x = 'Year', y = 'VALUE', hue = 'Nationality')\n",
    "plt.title('Ireland Non-Irish Female Population')\n",
    "plt.legend(bbox_to_anchor=(.5,-.3), loc='lower center',borderaxespad=-.5)"
   ]
  },
  {
   "cell_type": "code",
   "execution_count": null,
   "id": "c3a12992",
   "metadata": {},
   "outputs": [],
   "source": [
    "# Barplot Male non-Irish population dataset\n",
    "\n",
    "plt.figure(figsize=(10,5))\n",
    "sns.barplot(x=\"Year\", y=\"VALUE\", hue='Nationality', data=mnonI_df)\n",
    "plt.title('Ireland Non-Irish Male Population')\n",
    "plt.legend(bbox_to_anchor=(.5,-.32), loc='lower center')\n",
    "\n",
    "# Lineplot Male non-Irish population\n",
    "\n",
    "plt.figure(figsize=(10,5))\n",
    "sns.lineplot(data = mnonI_df, x = 'Year', y = 'VALUE', hue = 'Nationality')\n",
    "plt.title('Ireland Non-Irish Male Population')\n",
    "plt.legend(bbox_to_anchor=(.5,-.3), loc='lower center',borderaxespad=-.5)\n"
   ]
  },
  {
   "cell_type": "markdown",
   "id": "1d9085e9",
   "metadata": {},
   "source": [
    "# Statistical analysis"
   ]
  },
  {
   "cell_type": "code",
   "execution_count": null,
   "id": "826222fc",
   "metadata": {},
   "outputs": [],
   "source": []
  }
 ],
 "metadata": {
  "kernelspec": {
   "display_name": "Python 3 (ipykernel)",
   "language": "python",
   "name": "python3"
  },
  "language_info": {
   "codemirror_mode": {
    "name": "ipython",
    "version": 3
   },
   "file_extension": ".py",
   "mimetype": "text/x-python",
   "name": "python",
   "nbconvert_exporter": "python",
   "pygments_lexer": "ipython3",
   "version": "3.11.4"
  }
 },
 "nbformat": 4,
 "nbformat_minor": 5
}
